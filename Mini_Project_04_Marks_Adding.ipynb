{
  "nbformat": 4,
  "nbformat_minor": 0,
  "metadata": {
    "colab": {
      "provenance": [],
      "authorship_tag": "ABX9TyPWk9QgtrIdcOZUp+iWBtWc",
      "include_colab_link": true
    },
    "kernelspec": {
      "name": "python3",
      "display_name": "Python 3"
    },
    "language_info": {
      "name": "python"
    }
  },
  "cells": [
    {
      "cell_type": "markdown",
      "metadata": {
        "id": "view-in-github",
        "colab_type": "text"
      },
      "source": [
        "<a href=\"https://colab.research.google.com/github/UnknownMie/Mini-Project-Python-Marks-Adding/blob/main/Mini_Project_04_Marks_Adding.ipynb\" target=\"_parent\"><img src=\"https://colab.research.google.com/assets/colab-badge.svg\" alt=\"Open In Colab\"/></a>"
      ]
    },
    {
      "cell_type": "markdown",
      "source": [
        "\n",
        "\n",
        "---\n",
        "###Reading the input file and creating a final dictionary with total marks\n",
        "\n"
      ],
      "metadata": {
        "id": "eDGj3oNY9lrp"
      }
    },
    {
      "cell_type": "code",
      "source": [
        "import csv\n",
        "import pandas as pd\n",
        "final_marks={}\n",
        "with open('/content/Mini Project - Marks Adding.csv', 'r') as file:\n",
        "  csvreader = csv.reader(file)\n",
        "  for i in csvreader:\n",
        "    try:\n",
        "      final_marks[i[0]] = int(final_marks[i[0]]) + int(i[1])\n",
        "    except:\n",
        "      final_marks[i[0]] = (i[1])\n"
      ],
      "metadata": {
        "id": "YS8SNwozJUuI"
      },
      "execution_count": 10,
      "outputs": []
    },
    {
      "cell_type": "markdown",
      "source": [
        "\n",
        "\n",
        "---\n",
        "\n",
        "\n",
        "###Printing the final marks to user\n",
        "\n",
        "\n"
      ],
      "metadata": {
        "id": "mfg2N78_8AjX"
      }
    },
    {
      "cell_type": "code",
      "source": [
        "final=pd.Series(final_marks)\n",
        "print(final)"
      ],
      "metadata": {
        "id": "bnacODTB7-b7",
        "colab": {
          "base_uri": "https://localhost:8080/"
        },
        "outputId": "e6b9c979-b99e-440f-f4bd-a1ddd32d305a"
      },
      "execution_count": 11,
      "outputs": [
        {
          "output_type": "stream",
          "name": "stdout",
          "text": [
            "Roll Num     Marks\n",
            "102003542        4\n",
            "102003640        5\n",
            "102003725        5\n",
            "102003307        4\n",
            "             ...  \n",
            "102017150        4\n",
            "102003690        1\n",
            "102003149        2\n",
            "102003089        1\n",
            "102180347        1\n",
            "Length: 401, dtype: object\n"
          ]
        }
      ]
    },
    {
      "cell_type": "markdown",
      "source": [
        "\n",
        "\n",
        "---\n",
        "\n",
        "\n",
        "###Creating an output file for user to store in local machine\n"
      ],
      "metadata": {
        "id": "Qm456KTw8BDz"
      }
    },
    {
      "cell_type": "code",
      "source": [
        "field_names = ['Roll Num', 'Marks']\n",
        "rows = [{'Roll Num': key, 'Marks': value} for key, value in final_marks.items()]\n",
        "with open('Marks Total.csv', 'w') as csvfile:\n",
        "    writer = csv.DictWriter(csvfile, fieldnames = field_names)\n",
        "    writer.writeheader()\n",
        "    writer.writerows(rows)\n"
      ],
      "metadata": {
        "id": "IRpWU4rwCjyG"
      },
      "execution_count": 12,
      "outputs": []
    },
    {
      "cell_type": "markdown",
      "source": [
        "\n",
        "\n",
        "---\n",
        "\n",
        "\n",
        "###Combined Code"
      ],
      "metadata": {
        "id": "w-rd_EBU95rD"
      }
    },
    {
      "cell_type": "code",
      "source": [
        "import csv\n",
        "import pandas as pd\n",
        "final_marks={}\n",
        "with open('/content/Mini Project - Marks Adding.csv', 'r') as file:\n",
        "  csvreader = csv.reader(file)\n",
        "  for i in csvreader:\n",
        "    try:\n",
        "      final_marks[i[0]] = int(final_marks[i[0]]) + int(i[1])\n",
        "    except:\n",
        "      final_marks[i[0]] = (i[1])\n",
        "final=pd.Series(final_marks)\n",
        "print(final)\n",
        "field_names = ['Roll Num', 'Marks']\n",
        "rows = [{'Roll Num': key, 'Marks': value} for key, value in final_marks.items()]\n",
        "with open('Marks Total.csv', 'w') as csvfile:\n",
        "    writer = csv.DictWriter(csvfile, fieldnames = field_names)\n",
        "    writer.writeheader()\n",
        "    writer.writerows(rows)\n"
      ],
      "metadata": {
        "colab": {
          "base_uri": "https://localhost:8080/"
        },
        "id": "pHss7khZ-D7k",
        "outputId": "9c9df861-812a-43e9-cf3e-3887b04857c1"
      },
      "execution_count": 13,
      "outputs": [
        {
          "output_type": "stream",
          "name": "stdout",
          "text": [
            "Roll Num     Marks\n",
            "102003542        4\n",
            "102003640        5\n",
            "102003725        5\n",
            "102003307        4\n",
            "             ...  \n",
            "102017150        4\n",
            "102003690        1\n",
            "102003149        2\n",
            "102003089        1\n",
            "102180347        1\n",
            "Length: 401, dtype: object\n"
          ]
        }
      ]
    }
  ]
}